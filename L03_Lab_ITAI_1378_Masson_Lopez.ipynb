{
  "nbformat": 4,
  "nbformat_minor": 0,
  "metadata": {
    "colab": {
      "provenance": []
    },
    "kernelspec": {
      "name": "python3",
      "display_name": "Python 3"
    },
    "language_info": {
      "name": "python"
    }
  },
  "cells": [
    {
      "cell_type": "markdown",
      "source": [
        "## My first markdown cell in Jupyter"
      ],
      "metadata": {
        "id": "GObnAySoDjkb"
      }
    },
    {
      "cell_type": "code",
      "source": [
        "print(\"Masson Lopez - W216382292\")"
      ],
      "metadata": {
        "colab": {
          "base_uri": "https://localhost:8080/"
        },
        "id": "r223_3P5DgcG",
        "outputId": "a9a35835-ddbb-4df9-86f4-9e2c472ca16b"
      },
      "execution_count": 2,
      "outputs": [
        {
          "output_type": "stream",
          "name": "stdout",
          "text": [
            "Masson Lopez - W216382292\n"
          ]
        }
      ]
    },
    {
      "cell_type": "code",
      "source": [],
      "metadata": {
        "id": "qrYgscVPDrlo"
      },
      "execution_count": null,
      "outputs": []
    }
  ]
}